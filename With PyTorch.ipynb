{
 "cells": [
  {
   "cell_type": "markdown",
   "metadata": {},
   "source": [
    "# MCMC sampler in PyTorch"
   ]
  },
  {
   "cell_type": "code",
   "execution_count": 186,
   "metadata": {},
   "outputs": [],
   "source": [
    "%matplotlib inline\n",
    "\n",
    "import matplotlib.pyplot as plt\n",
    "import numpy as np\n",
    "import torch"
   ]
  },
  {
   "cell_type": "markdown",
   "metadata": {},
   "source": [
    "Going to make some fake data for a linear regression model."
   ]
  },
  {
   "cell_type": "code",
   "execution_count": 2,
   "metadata": {},
   "outputs": [],
   "source": [
    "# Number of data points\n",
    "N = 200\n",
    "# True parameters\n",
    "sigma = 1\n",
    "true_B = np.array([2, 1, 4])\n",
    "\n",
    "# Simulated features, including a constant\n",
    "X = np.ones((N, len(true_B)))\n",
    "X[:,1:] = np.random.rand(N, 2)*2\n",
    "\n",
    "# Simulated outcomes with normally distributed noise\n",
    "y = np.dot(X, true_B) + np.random.randn(N)*sigma\n",
    "\n",
    "data = np.ones((N, len(true_B) + 1))\n",
    "data[:, :-1] = X\n",
    "data[:, -1] = y\n",
    "\n",
    "X = torch.from_numpy(X).type(torch.FloatTensor)\n",
    "y = torch.from_numpy(y).type(torch.FloatTensor)"
   ]
  },
  {
   "cell_type": "markdown",
   "metadata": {},
   "source": [
    "Need to calculate the logp posterior with PyTorch"
   ]
  },
  {
   "cell_type": "code",
   "execution_count": 173,
   "metadata": {},
   "outputs": [],
   "source": [
    "def normal(x, mu=0, sig=1):\n",
    "    \n",
    "    if (sig <= 0).any():\n",
    "        return -torch.tensor(float(\"Inf\"))\n",
    "    \n",
    "    return torch.sum(-torch.log(sig) - (x - mu)**2/(2*sig**2))\n",
    "\n",
    "\n",
    "def exponential(x, rate=1):\n",
    "    rate = torch.tensor(rate, dtype=torch.float)\n",
    "    if (rate <= 0).any():\n",
    "        return -torch.tensor(float(\"Inf\"))\n",
    "    \n",
    "    return torch.sum(torch.log(rate) - rate*x)\n",
    "\n",
    "\n",
    "def uniform(x, lower=-100., upper=100.):\n",
    "    lower = torch.tensor(lower, dtype=torch.float)\n",
    "    upper = torch.tensor(upper, dtype=torch.float)\n",
    "    \n",
    "    if (x <= lower).any() or (x >= upper).any():\n",
    "        return -torch.tensor(float(\"Inf\"))\n",
    "    \n",
    "    return -x.shape[0] * torch.log(upper-lower)\n",
    "\n",
    "\n",
    "def logp(b, sig):\n",
    "    y_hat = torch.mm(X, b.view(-1, 1)).squeeze()\n",
    "    likelihood = normal(y, mu=y_hat, sig=sig)\n",
    "    prior_sig = exponential(sig)\n",
    "    prior_b = uniform(b, lower=-100, upper=100)\n",
    "    \n",
    "    return likelihood + prior_b + prior_sig"
   ]
  },
  {
   "cell_type": "code",
   "execution_count": 176,
   "metadata": {},
   "outputs": [
    {
     "name": "stdout",
     "output_type": "stream",
     "text": [
      "tensor(5694.7827)\n"
     ]
    }
   ],
   "source": [
    "b = torch.zeros(X.shape[1], 1, requires_grad=True)\n",
    "sig = torch.ones(1, dtype=torch.float, requires_grad=True)\n",
    "\n",
    "loss = -logp(b, sig)\n",
    "print(loss)"
   ]
  },
  {
   "cell_type": "code",
   "execution_count": 177,
   "metadata": {},
   "outputs": [],
   "source": [
    "def find_MAP(param_list, logp, iters=100, lr=0.0001):\n",
    "    optimizer = torch.optim.SGD(param_list, lr=lr)\n",
    "    \n",
    "    for ii in range(iters):\n",
    "        loss = -logp(*param_list)\n",
    "        optimizer.zero_grad()\n",
    "        loss.backward()\n",
    "        optimizer.step()\n",
    "        \n",
    "    return param_list"
   ]
  },
  {
   "cell_type": "code",
   "execution_count": 178,
   "metadata": {},
   "outputs": [
    {
     "data": {
      "text/plain": [
       "[tensor([ 1.9374,  1.0715,  4.0511]), tensor([ 1.0036])]"
      ]
     },
     "execution_count": 178,
     "metadata": {},
     "output_type": "execute_result"
    }
   ],
   "source": [
    "b = torch.randn(X.shape[1], requires_grad=True)\n",
    "b.data.mul_(0.01)\n",
    "sig = torch.ones(1, dtype=torch.float, requires_grad=True)\n",
    "find_MAP([b, sig], logp, iters=1000, lr=0.003)"
   ]
  },
  {
   "cell_type": "markdown",
   "metadata": {},
   "source": [
    "Now build a Metropolis sampler?"
   ]
  },
  {
   "cell_type": "code",
   "execution_count": 179,
   "metadata": {},
   "outputs": [],
   "source": [
    "def proposal(params, scale=1):\n",
    "    proposals = [torch.randn_like(param).mul(scale).add(param) for param in params]\n",
    "\n",
    "    return proposals\n",
    "\n",
    "def accept(params_x, params_y, logp):\n",
    "    \"\"\" Return a boolean indicating if the proposed sample should be accepted,\n",
    "        given the logp ratio logp(y)/logp(x).\n",
    "    \"\"\"\n",
    "    delp = (logp(*params_y) - logp(*params_x)).item()\n",
    "    if np.isfinite(delp) and np.log(np.random.uniform()) < delp:\n",
    "        return True\n",
    "    else:\n",
    "        return False\n",
    "    \n",
    "def tune(scale, acceptance):\n",
    "    \"\"\" Borrowed from PyMC3 \"\"\"\n",
    "\n",
    "    # Switch statement\n",
    "    if acceptance < 0.001:\n",
    "        # reduce by 90 percent\n",
    "        scale *= 0.1\n",
    "    elif acceptance < 0.05:\n",
    "        # reduce by 50 percent\n",
    "        scale *= 0.5\n",
    "    elif acceptance < 0.2:\n",
    "        # reduce by ten percent\n",
    "        scale *= 0.9\n",
    "    elif acceptance > 0.95:\n",
    "        # increase by factor of ten\n",
    "        scale *= 10.0\n",
    "    elif acceptance > 0.75:\n",
    "        # increase by double\n",
    "        scale *= 2.0\n",
    "    elif acceptance > 0.5:\n",
    "        # increase by ten percent\n",
    "        scale *= 1.1\n",
    "\n",
    "    return scale"
   ]
  },
  {
   "cell_type": "code",
   "execution_count": 181,
   "metadata": {},
   "outputs": [],
   "source": [
    "class Metropolis:\n",
    "    def __init__(self, logp, start, scale=1, tune_interval=100):\n",
    "        self.logp = logp\n",
    "        self.params = start\n",
    "        self.scale = scale\n",
    "        \n",
    "        self._sampled = 0\n",
    "        self._accepted = 0\n",
    "        self.tune_interval = tune_interval\n",
    "        self._steps_until_tune = tune_interval\n",
    "    \n",
    "    def step(self):\n",
    "        \"\"\" Perform a Metropolis-Hastings step. \"\"\"\n",
    "    \n",
    "        new_params = proposal(self.params, scale=self.scale)\n",
    "        if accept(self.params, new_params, self.logp):\n",
    "            self.params = new_params\n",
    "            self._accepted += 1\n",
    "\n",
    "        self._sampled += 1\n",
    "\n",
    "        self._steps_until_tune -= 1\n",
    "        if self._steps_until_tune == 0:\n",
    "            self.scale = tune(self.scale, self.acceptance)\n",
    "            self._steps_until_tune = self.tune_interval\n",
    "\n",
    "        return self.params\n",
    "    \n",
    "    def sample(self, samples, burn=1, thin=1):\n",
    "        n_params = sum(param.shape[0] for param in sampler.params)\n",
    "        posterior = torch.zeros(n_params, samples)\n",
    "        \n",
    "        for ii in range(samples):\n",
    "            params = self.step()\n",
    "            idx = 0\n",
    "            for param in params:\n",
    "                start = idx\n",
    "                idx += param.shape[0]\n",
    "                posterior[start:idx, ii] = param.squeeze()\n",
    "        \n",
    "        return posterior\n",
    "        \n",
    "    @property\n",
    "    def acceptance(self):\n",
    "        return self._accepted/self._sampled"
   ]
  },
  {
   "cell_type": "code",
   "execution_count": 183,
   "metadata": {},
   "outputs": [
    {
     "data": {
      "text/plain": [
       "[tensor([ 1.9376,  1.0714,  4.0509]), tensor([ 1.0036])]"
      ]
     },
     "execution_count": 183,
     "metadata": {},
     "output_type": "execute_result"
    }
   ],
   "source": [
    "b = torch.randn(X.shape[1], requires_grad=True)\n",
    "b.data.mul_(0.01)\n",
    "sig = torch.ones(1, dtype=torch.float, requires_grad=True)\n",
    "find_MAP([b, sig], logp, iters=1000, lr=0.003)"
   ]
  },
  {
   "cell_type": "code",
   "execution_count": 184,
   "metadata": {},
   "outputs": [],
   "source": [
    "sampler = Metropolis(logp, [b, sig])\n",
    "posterior = sampler.sample(1000)"
   ]
  },
  {
   "cell_type": "code",
   "execution_count": 185,
   "metadata": {},
   "outputs": [
    {
     "data": {
      "image/png": "[encoded data removed]",
      "text/plain": [
       "<Figure size 432x288 with 1 Axes>"
      ]
     },
     "metadata": {},
     "output_type": "display_data"
    }
   ],
   "source": [
    "plt.plot(posterior.data.numpy().T);"
   ]
  },
  {
   "cell_type": "code",
   "execution_count": 127,
   "metadata": {},
   "outputs": [],
   "source": []
  }
 ],
 "metadata": {
  "kernelspec": {
   "display_name": "Python 3",
   "language": "python",
   "name": "python3"
  },
  "language_info": {
   "codemirror_mode": {
    "name": "ipython",
    "version": 3
   },
   "file_extension": ".py",
   "mimetype": "text/x-python",
   "name": "python",
   "nbconvert_exporter": "python",
   "pygments_lexer": "ipython3",
   "version": "3.6.5"
  }
 },
 "nbformat": 4,
 "nbformat_minor": 2
}
